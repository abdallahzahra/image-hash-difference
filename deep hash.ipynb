{
 "cells": [
  {
   "cell_type": "code",
   "execution_count": 2,
   "metadata": {},
   "outputs": [
    {
     "name": "stderr",
     "output_type": "stream",
     "text": [
      "2020-11-15 09:51:55,942: INFO Initialized: MobileNet pretrained on ImageNet dataset sliced at last conv layer and added GlobalAveragePooling\n"
     ]
    }
   ],
   "source": [
    "\n",
    "from imagededup.methods import CNN\n",
    "import threading\n",
    "import numpy as np\n",
    "import matplotlib.pyplot as plt\n",
    "import cv2\n",
    "\n",
    "cnn = CNN()\n"
   ]
  },
  {
   "cell_type": "code",
   "execution_count": 3,
   "metadata": {},
   "outputs": [],
   "source": [
    "\n",
    "def ploting(imgDIr, duplicates, photoPath):\n",
    "    images = []\n",
    "\n",
    "    img = cv2.imread(photoPath)\n",
    "\n",
    "    plt.subplot(2, 6, 3), plt.imshow(img)\n",
    "    plt.title(\"original\")\n",
    "    counter = 0\n",
    "    for key, value in duplicates.items():\n",
    "        path = imgDIr + \"\\\\\" + key\n",
    "        img = cv2.imread(path)\n",
    "\n",
    "        images.append(img)\n",
    "\n",
    "        counter += 1\n",
    "        if counter == 4:\n",
    "            break\n",
    "    i = 1\n",
    "    for ele in images:\n",
    "        if i==3:\n",
    "            i+=1\n",
    "        plt.subplot(1, 6, i), plt.imshow(ele)\n",
    "        plt.title(\"duplicate\")\n",
    "\n",
    "        i += 1\n",
    "\n",
    "    plt.savefig('final_images', format=\"jpg\")  # To save figure\n",
    "    plt.show()  # To show figure\n",
    "\n"
   ]
  },
  {
   "cell_type": "code",
   "execution_count": 4,
   "metadata": {},
   "outputs": [],
   "source": [
    "\n",
    "def hammingDistance(n1, n2):\n",
    "    x = n1 ^ n2\n",
    "    setBits = 0\n",
    "\n",
    "    while (x > 0):\n",
    "        setBits += x & 1\n",
    "        x >>= 1\n",
    "\n",
    "    return setBits\n"
   ]
  },
  {
   "cell_type": "code",
   "execution_count": 7,
   "metadata": {},
   "outputs": [],
   "source": [
    "\n",
    "def cnn_encoding():\n",
    "    #feature extraction\n",
    "    encodings = cnn.encode_images(image_dir=r\"E:\\New folder\")\n",
    "    print(\"cnn\", encodings)\n",
    "    list = {}\n",
    "    hash1 = 0\n",
    "    #addition to all feature numbers\n",
    "    for key, value in encodings.items():\n",
    "        base = 0\n",
    "        for ele in value:\n",
    "            base += ele\n",
    "\n",
    "        hash1 = hash(base)\n",
    "        # print(\"comp\", hash1)\n",
    "        list[key] = hash1\n",
    "\n",
    "    image_dir = r\"E:\\New folder\"\n",
    "\n",
    "    single_image_encode = cnn.encode_image(r\"E:\\New folder\\DSC_3366.JPG\")\n",
    "\n",
    "    imahePath = r\"E:\\New folder\\DSC_3366.JPG\"\n",
    "    result = 0\n",
    "    hash2 = 0\n",
    "    for ele in single_image_encode[0]:\n",
    "        # print(ele)\n",
    "        result += ele\n",
    "    hash2 = hash(result)\n",
    "\n",
    "    hashes_dict = {}\n",
    "\n",
    "    print(list)\n",
    "    for key, value in list.items():\n",
    "        hashes_dict[key] = (hammingDistance(hash2, value))\n",
    "\n",
    "    print(hashes_dict)\n",
    "    min = 0\n",
    "    pn = \"\"\n",
    "    sorted_x = sorted(hashes_dict.items(), key=lambda kv: kv[1])\n",
    "    print(\"sorted: \", sorted_x[0:5])\n",
    "\n",
    "    sort_dict = {}\n",
    "\n",
    "    for ele in sorted_x:\n",
    "        sort_dict[ele[0]] = ele[1]\n",
    "    print(sort_dict)\n",
    "\n",
    "    for key, value in hashes_dict.items():\n",
    "        if min == 0:\n",
    "            min = value\n",
    "            pn = key\n",
    "            # print(key)\n",
    "        if value < min:\n",
    "            min = value\n",
    "            pn = key\n",
    "    print(f\"the more similar photo to the one we entered is {pn} score is {min}\")\n",
    "    ploting(image_dir, sort_dict, imahePath)\n"
   ]
  },
  {
   "cell_type": "code",
   "execution_count": 8,
   "metadata": {},
   "outputs": [
    {
     "name": "stderr",
     "output_type": "stream",
     "text": [
      "2020-11-15 11:01:18,552: INFO Start: Image encoding generation\n"
     ]
    },
    {
     "name": "stdout",
     "output_type": "stream",
     "text": [
      "1/1 [==============================] - 0s 997us/step\n"
     ]
    },
    {
     "name": "stderr",
     "output_type": "stream",
     "text": [
      "2020-11-15 11:01:46,275: INFO End: Image encoding generation\n"
     ]
    },
    {
     "name": "stdout",
     "output_type": "stream",
     "text": [
      "cnn {'DSC_3290.jpg': array([3.0945757e-05, 1.0211816e+00, 3.9535474e-02, ..., 1.2517208e+00,\n",
      "       1.4133184e-01, 1.0582943e-02], dtype=float32), 'DSC_3291.jpg': array([0.67000437, 0.2621126 , 0.29860613, ..., 0.8270419 , 0.7611875 ,\n",
      "       0.54552525], dtype=float32), 'DSC_3292.jpg': array([0.        , 0.33672842, 0.02061912, ..., 1.115575  , 0.33552644,\n",
      "       0.89969224], dtype=float32), 'DSC_3294.jpg': array([0.        , 0.5354696 , 0.01225532, ..., 0.436734  , 1.246838  ,\n",
      "       0.5778972 ], dtype=float32), 'DSC_3295.jpg': array([0.42696956, 0.65405786, 0.24782239, ..., 3.3949368 , 1.472614  ,\n",
      "       0.67375183], dtype=float32), 'DSC_3296.jpg': array([0.4721752 , 1.3080504 , 0.10301467, ..., 0.58092993, 0.18115507,\n",
      "       0.7126837 ], dtype=float32), 'DSC_3299.jpg': array([1.0374277 , 0.22333491, 1.0170033 , ..., 0.28725916, 0.09888887,\n",
      "       1.9471481 ], dtype=float32), 'DSC_3300.jpg': array([1.3752784 , 1.0262084 , 0.6352073 , ..., 1.4646032 , 0.27169526,\n",
      "       1.1975417 ], dtype=float32), 'DSC_3302.jpg': array([2.4402208 , 0.944019  , 0.44594562, ..., 0.453692  , 0.8237552 ,\n",
      "       0.31267712], dtype=float32), 'DSC_3304.jpg': array([1.8841168 , 0.33918333, 0.        , ..., 1.955061  , 0.27760112,\n",
      "       0.83131146], dtype=float32), 'DSC_3307.jpg': array([1.3669703 , 0.9712679 , 0.07481871, ..., 0.42729616, 1.1768728 ,\n",
      "       0.88398886], dtype=float32), 'DSC_3311.jpg': array([1.1865761 , 0.484457  , 0.05500264, ..., 0.86457765, 0.        ,\n",
      "       0.        ], dtype=float32), 'DSC_3314.jpg': array([2.6877434 , 0.14381097, 0.1595731 , ..., 2.929321  , 0.01906073,\n",
      "       0.54874134], dtype=float32), 'DSC_3315.jpg': array([1.5651153 , 0.6660548 , 0.02295928, ..., 0.8271659 , 0.17696124,\n",
      "       1.0455148 ], dtype=float32), 'DSC_3316.jpg': array([0.        , 0.29765862, 0.3321495 , ..., 0.46132588, 0.27139407,\n",
      "       0.6274158 ], dtype=float32), 'DSC_3318.jpg': array([0.66295314, 0.2771018 , 1.12395   , ..., 1.3143677 , 0.2480264 ,\n",
      "       0.08292379], dtype=float32), 'DSC_3322.jpg': array([0.4000609 , 0.9247709 , 0.09239145, ..., 0.9555937 , 0.19305752,\n",
      "       0.5735437 ], dtype=float32), 'DSC_3325.jpg': array([0.3281129 , 0.33440462, 0.05855026, ..., 1.7939681 , 0.03539972,\n",
      "       0.00943648], dtype=float32), 'DSC_3327.jpg': array([0.733015  , 0.09526084, 0.3348399 , ..., 0.0053019 , 0.84478194,\n",
      "       1.515541  ], dtype=float32), 'DSC_3329.jpg': array([0.64391613, 0.14911856, 0.35824788, ..., 0.09613401, 1.1678498 ,\n",
      "       1.2267498 ], dtype=float32), 'DSC_3330.jpg': array([0.14769214, 0.23153189, 0.10730073, ..., 0.10648473, 0.2477943 ,\n",
      "       2.3288827 ], dtype=float32), 'DSC_3333.jpg': array([0.2988863 , 0.14897594, 0.78505707, ..., 0.14115195, 0.64351547,\n",
      "       1.3420916 ], dtype=float32), 'DSC_3335.jpg': array([1.851122  , 0.1694241 , 1.8902584 , ..., 0.30342382, 0.9067657 ,\n",
      "       0.95876306], dtype=float32), 'DSC_3336.jpg': array([1.1082847 , 0.36660287, 0.0453434 , ..., 0.7254799 , 0.8514912 ,\n",
      "       1.9975821 ], dtype=float32), 'DSC_3337.jpg': array([0.81747085, 0.6020606 , 0.91173345, ..., 0.65522844, 0.4785027 ,\n",
      "       1.9152526 ], dtype=float32), 'DSC_3339.jpg': array([0.08263573, 0.14761949, 0.05072393, ..., 0.63684094, 0.0430298 ,\n",
      "       0.        ], dtype=float32), 'DSC_3340.jpg': array([0.6341015 , 0.42682877, 0.87586564, ..., 1.5512266 , 0.16905665,\n",
      "       0.45754677], dtype=float32), 'DSC_3341.jpg': array([0.20179628, 0.290882  , 0.24129206, ..., 0.18367334, 0.13322838,\n",
      "       0.12114244], dtype=float32), 'DSC_3342.jpg': array([1.233915  , 0.02598495, 0.19037375, ..., 0.36157954, 0.36305898,\n",
      "       0.7630786 ], dtype=float32), 'DSC_3344.jpg': array([0.5469263 , 0.4400372 , 0.30727682, ..., 0.5963024 , 0.03750249,\n",
      "       0.        ], dtype=float32), 'DSC_3347.jpg': array([0.        , 0.12018435, 0.25735834, ..., 1.0654418 , 0.09686252,\n",
      "       0.02756148], dtype=float32), 'DSC_3351.jpg': array([1.7693    , 0.44617772, 0.55413747, ..., 0.40079615, 1.8242941 ,\n",
      "       1.9201893 ], dtype=float32), 'DSC_3353.jpg': array([0.5699455 , 0.        , 2.1576018 , ..., 2.3072422 , 0.8537051 ,\n",
      "       0.37020773], dtype=float32), 'DSC_3354.jpg': array([0.878989  , 0.01690739, 1.2238405 , ..., 2.4211519 , 0.48566186,\n",
      "       0.45704412], dtype=float32), 'DSC_3356.jpg': array([1.7163743 , 1.1108001 , 0.6874407 , ..., 0.6010861 , 0.17327143,\n",
      "       1.6024642 ], dtype=float32), 'DSC_3359.jpg': array([0.42853746, 0.        , 2.638284  , ..., 1.6860702 , 0.02083162,\n",
      "       0.20165496], dtype=float32), 'DSC_3360.jpg': array([0.59460336, 0.02436951, 0.9040263 , ..., 2.4214036 , 0.09496818,\n",
      "       0.        ], dtype=float32), 'DSC_3363.jpg': array([0.25118423, 0.10495961, 1.398419  , ..., 0.12275472, 0.02430433,\n",
      "       0.5137769 ], dtype=float32), 'DSC_3364.jpg': array([0.30826673, 1.0041772 , 1.2786844 , ..., 0.        , 0.2605406 ,\n",
      "       0.64169717], dtype=float32), 'DSC_3365.jpg': array([0.3792217 , 0.20390928, 0.85719955, ..., 1.383442  , 0.24077982,\n",
      "       1.5970936 ], dtype=float32), 'DSC_3366.jpg': array([0.24691224, 0.13897851, 2.447295  , ..., 1.7061919 , 2.1599154 ,\n",
      "       0.85600007], dtype=float32)}\n",
      "{'DSC_3290.jpg': 1139584511747555917, 'DSC_3291.jpg': 848191841231700509, 'DSC_3292.jpg': 1915526411947344480, 'DSC_3294.jpg': 1820106290723029544, 'DSC_3295.jpg': 146248484238918128, 'DSC_3296.jpg': 166472814281359887, 'DSC_3299.jpg': 1418688858605748778, 'DSC_3300.jpg': 170072759097885351, 'DSC_3302.jpg': 668297834977559088, 'DSC_3304.jpg': 517035805986783788, 'DSC_3307.jpg': 1042307815709868608, 'DSC_3311.jpg': 872017413573444153, 'DSC_3314.jpg': 2025422344515748372, 'DSC_3315.jpg': 42570491310899890, 'DSC_3316.jpg': 783157090909684304, 'DSC_3318.jpg': 832188921298289202, 'DSC_3322.jpg': 2049126424362615404, 'DSC_3325.jpg': 654972963048653326, 'DSC_3327.jpg': 192836590827995587, 'DSC_3329.jpg': 2104640803694445219, 'DSC_3330.jpg': 3226657867432569, 'DSC_3333.jpg': 1672527981932708403, 'DSC_3335.jpg': 1984584076723487309, 'DSC_3336.jpg': 1347675738337182296, 'DSC_3337.jpg': 2051363396548297241, 'DSC_3339.jpg': 186945105351934422, 'DSC_3340.jpg': 822216798182048326, 'DSC_3341.jpg': 59665116727083579, 'DSC_3342.jpg': 876019761291461252, 'DSC_3344.jpg': 1996108643283501645, 'DSC_3347.jpg': 1667470242940453367, 'DSC_3351.jpg': 1438634761454092915, 'DSC_3353.jpg': 1192925678308164044, 'DSC_3354.jpg': 108609275005239756, 'DSC_3356.jpg': 531592642241233403, 'DSC_3359.jpg': 934549272223810086, 'DSC_3360.jpg': 2055776562174755272, 'DSC_3363.jpg': 2042790578734760541, 'DSC_3364.jpg': 442732203361698471, 'DSC_3365.jpg': 49391617701839590, 'DSC_3366.jpg': 1900792558380909167}\n",
      "{'DSC_3290.jpg': 18, 'DSC_3291.jpg': 21, 'DSC_3292.jpg': 21, 'DSC_3294.jpg': 22, 'DSC_3295.jpg': 25, 'DSC_3296.jpg': 19, 'DSC_3299.jpg': 21, 'DSC_3300.jpg': 20, 'DSC_3302.jpg': 24, 'DSC_3304.jpg': 27, 'DSC_3307.jpg': 22, 'DSC_3311.jpg': 23, 'DSC_3314.jpg': 29, 'DSC_3315.jpg': 31, 'DSC_3316.jpg': 22, 'DSC_3318.jpg': 28, 'DSC_3322.jpg': 20, 'DSC_3325.jpg': 22, 'DSC_3327.jpg': 23, 'DSC_3329.jpg': 21, 'DSC_3330.jpg': 20, 'DSC_3333.jpg': 25, 'DSC_3335.jpg': 19, 'DSC_3336.jpg': 21, 'DSC_3337.jpg': 25, 'DSC_3339.jpg': 29, 'DSC_3340.jpg': 19, 'DSC_3341.jpg': 23, 'DSC_3342.jpg': 23, 'DSC_3344.jpg': 17, 'DSC_3347.jpg': 21, 'DSC_3351.jpg': 17, 'DSC_3353.jpg': 22, 'DSC_3354.jpg': 24, 'DSC_3356.jpg': 19, 'DSC_3359.jpg': 19, 'DSC_3360.jpg': 29, 'DSC_3363.jpg': 19, 'DSC_3364.jpg': 19, 'DSC_3365.jpg': 29, 'DSC_3366.jpg': 12}\n",
      "sorted:  [('DSC_3366.jpg', 12), ('DSC_3344.jpg', 17), ('DSC_3351.jpg', 17), ('DSC_3290.jpg', 18), ('DSC_3296.jpg', 19)]\n",
      "{'DSC_3366.jpg': 12, 'DSC_3344.jpg': 17, 'DSC_3351.jpg': 17, 'DSC_3290.jpg': 18, 'DSC_3296.jpg': 19, 'DSC_3335.jpg': 19, 'DSC_3340.jpg': 19, 'DSC_3356.jpg': 19, 'DSC_3359.jpg': 19, 'DSC_3363.jpg': 19, 'DSC_3364.jpg': 19, 'DSC_3300.jpg': 20, 'DSC_3322.jpg': 20, 'DSC_3330.jpg': 20, 'DSC_3291.jpg': 21, 'DSC_3292.jpg': 21, 'DSC_3299.jpg': 21, 'DSC_3329.jpg': 21, 'DSC_3336.jpg': 21, 'DSC_3347.jpg': 21, 'DSC_3294.jpg': 22, 'DSC_3307.jpg': 22, 'DSC_3316.jpg': 22, 'DSC_3325.jpg': 22, 'DSC_3353.jpg': 22, 'DSC_3311.jpg': 23, 'DSC_3327.jpg': 23, 'DSC_3341.jpg': 23, 'DSC_3342.jpg': 23, 'DSC_3302.jpg': 24, 'DSC_3354.jpg': 24, 'DSC_3295.jpg': 25, 'DSC_3333.jpg': 25, 'DSC_3337.jpg': 25, 'DSC_3304.jpg': 27, 'DSC_3318.jpg': 28, 'DSC_3314.jpg': 29, 'DSC_3339.jpg': 29, 'DSC_3360.jpg': 29, 'DSC_3365.jpg': 29, 'DSC_3315.jpg': 31}\n",
      "the more similar photo to the one we entered is DSC_3366.jpg score is 12\n"
     ]
    },
    {
     "data": {
      "image/png": "[encoded data removed]",
      "text/plain": [
       "<Figure size 432x288 with 5 Axes>"
      ]
     },
     "metadata": {
      "needs_background": "light"
     },
     "output_type": "display_data"
    },
    {
     "name": "stdout",
     "output_type": "stream",
     "text": [
      "end\n"
     ]
    }
   ],
   "source": [
    "cnn_encoding()\n",
    "\n",
    "print(\"end\")\n"
   ]
  },
  {
   "cell_type": "code",
   "execution_count": null,
   "metadata": {},
   "outputs": [],
   "source": []
  }
 ],
 "metadata": {
  "kernelspec": {
   "display_name": "Python 3",
   "language": "python",
   "name": "python3"
  },
  "language_info": {
   "codemirror_mode": {
    "name": "ipython",
    "version": 3
   },
   "file_extension": ".py",
   "mimetype": "text/x-python",
   "name": "python",
   "nbconvert_exporter": "python",
   "pygments_lexer": "ipython3",
   "version": "3.8.5"
  }
 },
 "nbformat": 4,
 "nbformat_minor": 4
}
