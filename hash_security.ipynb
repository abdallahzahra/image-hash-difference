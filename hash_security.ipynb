{
 "cells": [
  {
   "cell_type": "code",
   "execution_count": 16,
   "metadata": {},
   "outputs": [],
   "source": [
    "import os\n",
    "\n",
    "for root , dirs ,files in os.walk(r\"C:\\Users\\abdallah zahra\\Downloads\\Documents\\data_image\"):\n",
    "    for file in  files:\n",
    "        if file.endswith(\".JPG\"):\n",
    "            print(os.path.join(root,file))"
   ]
  },
  {
   "cell_type": "code",
   "execution_count": 65,
   "metadata": {},
   "outputs": [
    {
     "name": "stderr",
     "output_type": "stream",
     "text": [
      "2020-11-26 00:40:15,275: INFO Initialized: MobileNet pretrained on ImageNet dataset sliced at last conv layer and added GlobalAveragePooling\n"
     ]
    },
    {
     "name": "stdout",
     "output_type": "stream",
     "text": [
      "[34537859251699712, 357729337912328192, 357729337912328192, 676758134269673474, 1252223175714930690, 1276198632348975106, 2106553387058200578, 2423613507846012930, 3251664716975570946, 3748497497165660162, 3877716527478210562, 3918449310118707203, 4736787570967445507, 5020300973516521475, 5571376063918899203, 6046413740507660291]\n"
     ]
    }
   ],
   "source": [
    "import os\n",
    "\n",
    "from imagededup.methods import CNN\n",
    "\n",
    "cnn = CNN()\n",
    "\n",
    "list_encoded=[]\n",
    "hashing=[]\n",
    "\n",
    "hash1=0\n",
    "\n",
    "\n",
    "for root,dirs,files in os.walk(r\"C:\\Users\\abdallah zahra\\Downloads\\Documents\\data_image\"):\n",
    "    for file in files:\n",
    "        if file.endswith('.jpg'):\n",
    "            image_path=os.path.join(file)\n",
    "            \n",
    "            encoded=cnn.encode_image(r\"C:\\Users\\abdallah zahra\\Downloads\\Documents\\data_image\\{}\".format(image_path))\n",
    "            list_encoded.append(encoded)\n",
    "            \n",
    "#             print(os.path.join(file))\n",
    "# print(list_encoded)\n",
    "\n",
    "for lists in list_encoded:\n",
    "    for ele in lists :\n",
    "#         print(ele)\n",
    "        for x in ele:\n",
    "#             print(x)\n",
    "            \n",
    "            base = 0\n",
    "            base += x\n",
    "        hash1+=hash(base)\n",
    "        hashing.append(hash1)\n",
    "print(hashing)\n",
    "\n",
    "        \n",
    "    "
   ]
  },
  {
   "cell_type": "code",
   "execution_count": 70,
   "metadata": {},
   "outputs": [
    {
     "name": "stderr",
     "output_type": "stream",
     "text": [
      "2020-11-26 00:51:04,667: INFO Initialized: MobileNet pretrained on ImageNet dataset sliced at last conv layer and added GlobalAveragePooling\n"
     ]
    },
    {
     "name": "stdout",
     "output_type": "stream",
     "text": [
      "[34537859251699712, 357729337912328192, 357729337912328192, 676758134269673474, 1252223175714930690, 1276198632348975106, 2106553387058200578, 2423613507846012930, 3251664716975570946, 3748497497165660162, 3877716527478210562, 4696054788326948866, 4979568190876024834, 5530643281278402562, 6005680957867163650]\n",
      "result of encode  1.0176650285720825\n",
      "hhhhsh : 40732782640496641\n",
      "false\n"
     ]
    }
   ],
   "source": [
    "import os\n",
    "\n",
    "from imagededup.methods import CNN\n",
    "\n",
    "cnn = CNN()\n",
    "\n",
    "list_encoded=[]\n",
    "hashing=[]\n",
    "\n",
    "hash1=0\n",
    "\n",
    "\n",
    "for root,dirs,files in os.walk(r\"C:\\Users\\abdallah zahra\\Downloads\\Documents\\data_image\"):\n",
    "    for file in files:\n",
    "        if file.endswith('.jpg'):\n",
    "            image_path=os.path.join(file)\n",
    "            \n",
    "            encoded=cnn.encode_image(r\"C:\\Users\\abdallah zahra\\Downloads\\Documents\\data_image\\{}\".format(image_path))\n",
    "            list_encoded.append(encoded)\n",
    "            \n",
    "#             print(os.path.join(file))\n",
    "# print(list_encoded)\n",
    "\n",
    "for lists in list_encoded:\n",
    "    for ele in lists :\n",
    "#         print(ele)\n",
    "        for x in ele:\n",
    "#             print(x)\n",
    "            \n",
    "            base = 0\n",
    "            base += x\n",
    "        hash1+=hash(base)\n",
    "        hashing.append(hash1)\n",
    "print(hashing)\n",
    "\n",
    "        \n",
    "single_image_encode = cnn.encode_image(r\"C:\\Users\\abdallah zahra\\Downloads\\Documents\\New folder\\me2 - Copy.JPG\")\n",
    "    \n",
    "\n",
    "hash2 = 0\n",
    "zzz=0\n",
    "for ele in single_image_encode[0]:\n",
    "    result = 0\n",
    "    result += ele\n",
    "print(\"result of encode \",result)\n",
    "\n",
    "hash2 = hash(result)\n",
    "print('hhhhsh :',hash2)\n",
    "# for xx in hashing :\n",
    "#     print(xx)\n",
    "if hash2 in hashing:\n",
    "    print(\"True\")\n",
    "elif hash2 not in hashing:\n",
    "    print(\"false\")  "
   ]
  },
  {
   "cell_type": "code",
   "execution_count": null,
   "metadata": {},
   "outputs": [],
   "source": []
  }
 ],
 "metadata": {
  "kernelspec": {
   "display_name": "Python 3",
   "language": "python",
   "name": "python3"
  },
  "language_info": {
   "codemirror_mode": {
    "name": "ipython",
    "version": 3
   },
   "file_extension": ".py",
   "mimetype": "text/x-python",
   "name": "python",
   "nbconvert_exporter": "python",
   "pygments_lexer": "ipython3",
   "version": "3.8.5"
  }
 },
 "nbformat": 4,
 "nbformat_minor": 4
}
